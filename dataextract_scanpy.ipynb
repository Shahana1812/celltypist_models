{
 "cells": [
  {
   "cell_type": "code",
   "execution_count": null,
   "metadata": {},
   "outputs": [],
   "source": [
    "# **Data extraction from h5ad files for use in DESeq2 **"
   ]
  },
  {
   "cell_type": "code",
   "execution_count": 1,
   "metadata": {
    "colab": {
     "base_uri": "https://localhost:8080/"
    },
    "id": "v-EHeeu3ISVv",
    "outputId": "c917224a-ff82-4fa3-f6a5-4906b733b8e7"
   },
   "outputs": [
    {
     "name": "stdout",
     "output_type": "stream",
     "text": [
      "Requirement already satisfied: scanpy in ./miniforge3/lib/python3.10/site-packages (1.9.8)\n",
      "Requirement already satisfied: anndata>=0.7.4 in ./miniforge3/lib/python3.10/site-packages (from scanpy) (0.10.5.post1)\n",
      "Requirement already satisfied: h5py>=3 in ./miniforge3/lib/python3.10/site-packages (from scanpy) (3.10.0)\n",
      "Requirement already satisfied: joblib in ./miniforge3/lib/python3.10/site-packages (from scanpy) (1.3.2)\n",
      "Requirement already satisfied: matplotlib>=3.6 in ./miniforge3/lib/python3.10/site-packages (from scanpy) (3.8.3)\n",
      "Requirement already satisfied: natsort in ./miniforge3/lib/python3.10/site-packages (from scanpy) (8.4.0)\n",
      "Requirement already satisfied: networkx>=2.3 in ./miniforge3/lib/python3.10/site-packages (from scanpy) (3.2.1)\n",
      "Requirement already satisfied: numba>=0.41.0 in ./miniforge3/lib/python3.10/site-packages (from scanpy) (0.59.0)\n",
      "Requirement already satisfied: numpy>=1.17.0 in ./miniforge3/lib/python3.10/site-packages (from scanpy) (1.26.4)\n",
      "Requirement already satisfied: packaging in ./miniforge3/lib/python3.10/site-packages (from scanpy) (23.2)\n",
      "Requirement already satisfied: pandas!=2.1.2,>=1.1.1 in ./miniforge3/lib/python3.10/site-packages (from scanpy) (2.2.0)\n",
      "Requirement already satisfied: patsy in ./miniforge3/lib/python3.10/site-packages (from scanpy) (0.5.6)\n",
      "Requirement already satisfied: scikit-learn>=0.24 in ./miniforge3/lib/python3.10/site-packages (from scanpy) (1.4.1.post1)\n",
      "Requirement already satisfied: scipy>=1.4 in ./miniforge3/lib/python3.10/site-packages (from scanpy) (1.12.0)\n",
      "Requirement already satisfied: seaborn>=0.13.0 in ./miniforge3/lib/python3.10/site-packages (from scanpy) (0.13.2)\n",
      "Requirement already satisfied: session-info in ./miniforge3/lib/python3.10/site-packages (from scanpy) (1.0.0)\n",
      "Requirement already satisfied: statsmodels>=0.10.0rc2 in ./miniforge3/lib/python3.10/site-packages (from scanpy) (0.14.1)\n",
      "Requirement already satisfied: tqdm in ./miniforge3/lib/python3.10/site-packages (from scanpy) (4.66.1)\n",
      "Requirement already satisfied: umap-learn>=0.3.10 in ./miniforge3/lib/python3.10/site-packages (from scanpy) (0.5.5)\n",
      "Requirement already satisfied: array-api-compat in ./miniforge3/lib/python3.10/site-packages (from anndata>=0.7.4->scanpy) (1.4.1)\n",
      "Requirement already satisfied: exceptiongroup in ./miniforge3/lib/python3.10/site-packages (from anndata>=0.7.4->scanpy) (1.2.0)\n",
      "Requirement already satisfied: contourpy>=1.0.1 in ./miniforge3/lib/python3.10/site-packages (from matplotlib>=3.6->scanpy) (1.2.0)\n",
      "Requirement already satisfied: cycler>=0.10 in ./miniforge3/lib/python3.10/site-packages (from matplotlib>=3.6->scanpy) (0.12.1)\n",
      "Requirement already satisfied: fonttools>=4.22.0 in ./miniforge3/lib/python3.10/site-packages (from matplotlib>=3.6->scanpy) (4.49.0)\n",
      "Requirement already satisfied: kiwisolver>=1.3.1 in ./miniforge3/lib/python3.10/site-packages (from matplotlib>=3.6->scanpy) (1.4.5)\n",
      "Requirement already satisfied: pillow>=8 in ./miniforge3/lib/python3.10/site-packages (from matplotlib>=3.6->scanpy) (10.2.0)\n",
      "Requirement already satisfied: pyparsing>=2.3.1 in ./miniforge3/lib/python3.10/site-packages (from matplotlib>=3.6->scanpy) (3.1.1)\n",
      "Requirement already satisfied: python-dateutil>=2.7 in ./miniforge3/lib/python3.10/site-packages (from matplotlib>=3.6->scanpy) (2.8.2)\n",
      "Requirement already satisfied: llvmlite<0.43,>=0.42.0dev0 in ./miniforge3/lib/python3.10/site-packages (from numba>=0.41.0->scanpy) (0.42.0)\n",
      "Requirement already satisfied: pytz>=2020.1 in ./miniforge3/lib/python3.10/site-packages (from pandas!=2.1.2,>=1.1.1->scanpy) (2024.1)\n",
      "Requirement already satisfied: tzdata>=2022.7 in ./miniforge3/lib/python3.10/site-packages (from pandas!=2.1.2,>=1.1.1->scanpy) (2024.1)\n",
      "Requirement already satisfied: threadpoolctl>=2.0.0 in ./miniforge3/lib/python3.10/site-packages (from scikit-learn>=0.24->scanpy) (3.3.0)\n",
      "Requirement already satisfied: six in ./miniforge3/lib/python3.10/site-packages (from patsy->scanpy) (1.16.0)\n",
      "Requirement already satisfied: pynndescent>=0.5 in ./miniforge3/lib/python3.10/site-packages (from umap-learn>=0.3.10->scanpy) (0.5.11)\n",
      "Requirement already satisfied: stdlib-list in ./miniforge3/lib/python3.10/site-packages (from session-info->scanpy) (0.10.0)\n"
     ]
    }
   ],
   "source": [
    "!pip install scanpy"
   ]
  },
  {
   "cell_type": "code",
   "execution_count": 2,
   "metadata": {},
   "outputs": [
    {
     "name": "stdout",
     "output_type": "stream",
     "text": [
      "Requirement already satisfied: pyarrow in ./miniforge3/envs/pertpy/lib/python3.10/site-packages (15.0.0)\n",
      "Requirement already satisfied: numpy<2,>=1.16.6 in ./miniforge3/envs/pertpy/lib/python3.10/site-packages (from pyarrow) (1.26.4)\n",
      "Note: you may need to restart the kernel to use updated packages.\n"
     ]
    }
   ],
   "source": [
    "pip install pyarrow"
   ]
  },
  {
   "cell_type": "code",
   "execution_count": 3,
   "metadata": {
    "id": "7Lg7_1zPIB0Z"
   },
   "outputs": [],
   "source": [
    "import numpy as np\n",
    "import pandas as pd\n",
    "import scanpy as sc\n",
    "import anndata\n",
    "import os\n",
    "import sys\n",
    "from scipy import sparse\n"
   ]
  },
  {
   "cell_type": "code",
   "execution_count": 4,
   "metadata": {
    "colab": {
     "base_uri": "https://localhost:8080/"
    },
    "id": "17V69HZJLXN3",
    "outputId": "8b556895-ec28-4cf1-d39f-a12e65ecaf08"
   },
   "outputs": [
    {
     "name": "stdout",
     "output_type": "stream",
     "text": [
      "/home/icb/shahana.dilruba\n"
     ]
    }
   ],
   "source": [
    "import os\n",
    "\n",
    "print(os.getcwd())"
   ]
  },
  {
   "cell_type": "markdown",
   "metadata": {
    "id": "EgJfR9wl5Er0"
   },
   "source": [
    "# Load anndata"
   ]
  },
  {
   "cell_type": "code",
   "execution_count": 5,
   "metadata": {
    "colab": {
     "base_uri": "https://localhost:8080/"
    },
    "id": "UkFfPlDJJZll",
    "outputId": "ff5561e4-5cbc-401e-acb1-407cc67fd125"
   },
   "outputs": [
    {
     "name": "stderr",
     "output_type": "stream",
     "text": [
      "/home/icb/shahana.dilruba/miniforge3/envs/pertpy/lib/python3.10/site-packages/anndata/__init__.py:51: FutureWarning: `anndata.read` is deprecated, use `anndata.read_h5ad` instead. `ad.read` will be removed in mid 2024.\n",
      "  warnings.warn(\n"
     ]
    }
   ],
   "source": [
    "adata = sc.read('/home/icb/shahana.dilruba/celltypist_model_chosen_lungatlas_data.h5ad')"
   ]
  },
  {
   "cell_type": "code",
   "execution_count": 6,
   "metadata": {},
   "outputs": [
    {
     "data": {
      "text/plain": [
       "AnnData object with n_obs × n_vars = 254630 × 18115\n",
       "    obs: 'identifier', 'patient', 'name', 'barcode_round', 'sample', 'viral_counts', 'treatment', 'treatment_virus', 'infected', 'n_counts', 'n_genes', 'percent_mito', 'percent_viral', 'leiden', 'final_bcs', 'batch', 'celltype_coarse', 'cell_type', 'infection_label', '_scvi_batch', '_scvi_labels', 'leiden_coarse', 'leiden_fine', 'leiden_subset', 'celltype_fine', 'celltype_approx', 'predicted_labels', 'over_clustering', 'majority_voting', 'conf_score'\n",
       "    var: 'used_for_scvi'\n",
       "    uns: '_scvi', 'cell_type_colors', 'celltype_approx_colors', 'celltype_coarse_colors', 'celltype_fine_colors', 'dendrogram_leiden_fine', 'hvg', 'infected_colors', 'leiden', 'leiden_coarse_colors', 'leiden_colors', 'leiden_fine_colors', 'majority_voting_colors', 'neighbors', 'patient_colors', 'predicted_labels_colors', 'rank_genes_groups', 'treatment_colors', 'umap'\n",
       "    obsm: 'X_pca', 'X_scVI', 'X_umap'\n",
       "    layers: 'counts'\n",
       "    obsp: 'connectivities', 'distances'"
      ]
     },
     "execution_count": 6,
     "metadata": {},
     "output_type": "execute_result"
    }
   ],
   "source": [
    "adata"
   ]
  },
  {
   "cell_type": "code",
   "execution_count": 7,
   "metadata": {},
   "outputs": [],
   "source": [
    "!mkdir data_extract"
   ]
  },
  {
   "cell_type": "code",
   "execution_count": 11,
   "metadata": {},
   "outputs": [],
   "source": [
    "pd.DataFrame(adata.var.index).to_csv(os.path.join('/home/icb/shahana.dilruba/data_extract', \"genes.tsv\" ),   sep = \"\\t\", index = False)\n"
   ]
  },
  {
   "cell_type": "code",
   "execution_count": 12,
   "metadata": {},
   "outputs": [],
   "source": [
    "pd.DataFrame(adata.obs.index).to_csv(os.path.join('/home/icb/shahana.dilruba/data_extract', \"barcodes.tsv\"), sep = \"\\t\", index = False)\n"
   ]
  },
  {
   "cell_type": "code",
   "execution_count": 14,
   "metadata": {},
   "outputs": [],
   "source": [
    "adata.obs.to_csv(os.path.join('/home/icb/shahana.dilruba/data_extract', \"metadata.tsv\"), sep = \"\\t\", index = True)"
   ]
  },
  {
   "cell_type": "code",
   "execution_count": 16,
   "metadata": {},
   "outputs": [],
   "source": [
    "import scipy"
   ]
  },
  {
   "cell_type": "code",
   "execution_count": 17,
   "metadata": {},
   "outputs": [],
   "source": [
    "scipy.io.mmwrite(os.path.join('/home/icb/shahana.dilruba/data_extract', \"matrix.mtx\"), adata.X)"
   ]
  },
  {
   "cell_type": "code",
   "execution_count": 18,
   "metadata": {},
   "outputs": [],
   "source": [
    "import pandas as pd\n",
    "\n",
    "# Specify the file paths for input TSV and output CSV files\n",
    "tsv_file = \"/home/icb/shahana.dilruba/data_extract/genes.tsv\"\n",
    "csv_file = \"/home/icb/shahana.dilruba/data_extract/genes.csv\"\n",
    "\n",
    "# Read the TSV file into a DataFrame\n",
    "df = pd.read_csv(tsv_file, sep='\\t')\n",
    "\n",
    "# Write the DataFrame to a CSV file\n",
    "df.to_csv(csv_file, index=False)\n"
   ]
  },
  {
   "cell_type": "code",
   "execution_count": 19,
   "metadata": {},
   "outputs": [],
   "source": [
    "# Specify the file paths for input TSV and output CSV files\n",
    "tsv_file = \"/home/icb/shahana.dilruba/data_extract/barcodes.tsv\"\n",
    "csv_file = \"/home/icb/shahana.dilruba/data_extract/barcodes.csv\"\n",
    "\n",
    "# Read the TSV file into a DataFrame\n",
    "df = pd.read_csv(tsv_file, sep='\\t')\n",
    "\n",
    "# Write the DataFrame to a CSV file\n",
    "df.to_csv(csv_file, index=False)\n"
   ]
  },
  {
   "cell_type": "code",
   "execution_count": 21,
   "metadata": {},
   "outputs": [],
   "source": [
    "# Specify the file paths for input TSV and output CSV files\n",
    "tsv_file = \"/home/icb/shahana.dilruba/data_extract/metadata.tsv\"\n",
    "csv_file = \"/home/icb/shahana.dilruba/data_extract/metadata.csv\"\n",
    "\n",
    "# Read the TSV file into a DataFrame\n",
    "df = pd.read_csv(tsv_file, sep='\\t', low_memory=False)\n",
    "\n",
    "# Write the DataFrame to a CSV file\n",
    "df.to_csv(csv_file, index=False)\n"
   ]
  },
  {
   "cell_type": "code",
   "execution_count": null,
   "metadata": {},
   "outputs": [],
   "source": []
  }
 ],
 "metadata": {
  "colab": {
   "provenance": []
  },
  "kernelspec": {
   "display_name": "pertpy",
   "language": "python",
   "name": "pertpy"
  },
  "language_info": {
   "codemirror_mode": {
    "name": "ipython",
    "version": 3
   },
   "file_extension": ".py",
   "mimetype": "text/x-python",
   "name": "python",
   "nbconvert_exporter": "python",
   "pygments_lexer": "ipython3",
   "version": "3.10.13"
  }
 },
 "nbformat": 4,
 "nbformat_minor": 4
}
